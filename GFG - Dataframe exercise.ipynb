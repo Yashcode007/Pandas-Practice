{
 "cells": [
  {
   "cell_type": "code",
   "execution_count": 1,
   "id": "3ffcf6ca",
   "metadata": {},
   "outputs": [
    {
     "name": "stdout",
     "output_type": "stream",
     "text": [
      "                0\n",
      "0           Geeks\n",
      "1            Yash\n",
      "2  Data Scientist\n",
      "3      Successful\n"
     ]
    }
   ],
   "source": [
    "#Function used-> pd.DataFrame\n",
    "import pandas as pd \n",
    "\n",
    "lst=['Geeks','Yash','Data Scientist','Successful']\n",
    "df = pd.DataFrame(lst)    \n",
    "print(df)"
   ]
  },
  {
   "cell_type": "code",
   "execution_count": 2,
   "id": "6f7a1b4f",
   "metadata": {},
   "outputs": [
    {
     "name": "stdout",
     "output_type": "stream",
     "text": [
      "     name  degree  score\n",
      "0  aparna     MBA     90\n",
      "1  pankaj     BCA     40\n",
      "2  sudhir  M.Tech     80\n",
      "3   Geeku     MBA     98\n"
     ]
    }
   ],
   "source": [
    "#Create DataFrame from List using Dictionary\n",
    "\n",
    "import pandas as pd\n",
    "# list of name, degree, score\n",
    "nme = [\"aparna\", \"pankaj\", \"sudhir\", \"Geeku\"]\n",
    "deg = [\"MBA\", \"BCA\", \"M.Tech\", \"MBA\"]\n",
    "scr = [90, 40, 80, 98]\n",
    "\n",
    "#dictionary of lists\n",
    "dict={'name':nme, 'degree':deg, 'score':scr}\n",
    "\n",
    "df = pd.DataFrame(dict)\n",
    "\n",
    "print(df)"
   ]
  },
  {
   "cell_type": "code",
   "execution_count": 3,
   "id": "eadeecee",
   "metadata": {},
   "outputs": [
    {
     "name": "stdout",
     "output_type": "stream",
     "text": [
      "   0  1  2  3\n",
      "0  1  2  3  4\n",
      "1  5  6  7  9\n"
     ]
    }
   ],
   "source": [
    "import pandas as pd\n",
    "\n",
    "list = [[1,2,3,4],[5,6,7,9]]\n",
    "df = pd.DataFrame(list)\n",
    "print(df)"
   ]
  },
  {
   "cell_type": "code",
   "execution_count": 5,
   "id": "be2f1680",
   "metadata": {},
   "outputs": [
    {
     "name": "stdout",
     "output_type": "stream",
     "text": [
      "       Name  Age\n",
      "0      Yash   23\n",
      "1  Abhishek   22\n",
      "2     Rohit   15\n"
     ]
    }
   ],
   "source": [
    "import pandas as pd\n",
    "\n",
    "list = [['Yash',23],['Abhishek',22],['Rohit',15]]\n",
    "\n",
    "df = pd.DataFrame(list,columns=['Name','Age'])\n",
    "print(df)"
   ]
  },
  {
   "cell_type": "code",
   "execution_count": 9,
   "id": "c23b5181",
   "metadata": {},
   "outputs": [
    {
     "name": "stdout",
     "output_type": "stream",
     "text": [
      "    Name  Age        Occupation\n",
      "0   Yash   23    Data Scientist\n",
      "1  Harsh   22  Business Analyst\n"
     ]
    }
   ],
   "source": [
    "import pandas as pd\n",
    "data = [['Yash', 23, 'Data Scientist'],['Harsh', 22, 'Business Analyst']]\n",
    "column = ['Name','Age','Occupation']\n",
    "df = pd.DataFrame.from_records(data, columns=column)\n",
    "print(df)"
   ]
  },
  {
   "cell_type": "code",
   "execution_count": 10,
   "id": "66b457f8",
   "metadata": {},
   "outputs": [
    {
     "name": "stdout",
     "output_type": "stream",
     "text": [
      "  Category  Marks\n",
      "0  General     99\n",
      "1      OBC     80\n",
      "2    SC/ST     50\n"
     ]
    }
   ],
   "source": [
    "import pandas as pd\n",
    "\n",
    "data = {'Category':['General','OBC','SC/ST'],\n",
    "        'Marks':[99,80,50]}\n",
    "\n",
    "df=pd.DataFrame(data)\n",
    "print(df)"
   ]
  },
  {
   "cell_type": "code",
   "execution_count": 13,
   "id": "b2a008b1",
   "metadata": {},
   "outputs": [
    {
     "name": "stdout",
     "output_type": "stream",
     "text": [
      "        Area  Student_1  Student_2\n",
      "Cat_1  Array         20         15\n",
      "Cat_2  Stack         21         20\n",
      "Cat_3  Queue         19         24\n"
     ]
    }
   ],
   "source": [
    "import pandas as pd\n",
    "\n",
    "data = {'Area':['Array','Stack','Queue'], 'Student_1':[20,21,19], 'Student_2':[15,20,24]}\n",
    "index1 = ['Cat_1','Cat_2','Cat_3']\n",
    "df = pd.DataFrame(data, index=index1)\n",
    "print(df)"
   ]
  },
  {
   "cell_type": "code",
   "execution_count": 14,
   "id": "57184fea",
   "metadata": {},
   "outputs": [
    {
     "name": "stdout",
     "output_type": "stream",
     "text": [
      "    Name  Age  Score\n",
      "0  Peter   18      7\n",
      "1   Riff   15      6\n",
      "2   John   17      8\n"
     ]
    }
   ],
   "source": [
    "#Creating dataframe using tuples \n",
    "import pandas as pd\n",
    "\n",
    "data = [('Peter',18,7),\n",
    "       ('Riff',15,6),\n",
    "       ('John',17,8)]\n",
    "\n",
    "df=pd.DataFrame(data,columns=['Name','Age','Score'])\n",
    "\n",
    "print(df)"
   ]
  },
  {
   "cell_type": "code",
   "execution_count": 15,
   "id": "e5d1306c",
   "metadata": {},
   "outputs": [
    {
     "ename": "SyntaxError",
     "evalue": "invalid syntax (3267063435.py, line 2)",
     "output_type": "error",
     "traceback": [
      "\u001b[1;36m  Cell \u001b[1;32mIn[15], line 2\u001b[1;36m\u001b[0m\n\u001b[1;33m    For example ->\u001b[0m\n\u001b[1;37m        ^\u001b[0m\n\u001b[1;31mSyntaxError\u001b[0m\u001b[1;31m:\u001b[0m invalid syntax\n"
     ]
    }
   ],
   "source": [
    "#We can also create the data fram by using from_records() function \n",
    "# For example ->\n",
    "# df = pd.DataFrame.from_records(data,columns=['Team','Age','Score'])\n",
    "# print(df)\n"
   ]
  },
  {
   "cell_type": "code",
   "execution_count": 17,
   "id": "8762335b",
   "metadata": {},
   "outputs": [
    {
     "name": "stdout",
     "output_type": "stream",
     "text": [
      "       Geeks    For geeks  list\n",
      "1  dataframe  using  list   NaN\n",
      "2         10     20   NaN  30.0\n"
     ]
    }
   ],
   "source": [
    "#Creating data frame using list of dictionaries\n",
    "import pandas as pd\n",
    "\n",
    "data=[{'Geeks':'dataframe','For':'using','geeks':'list'},\n",
    "     {'Geeks':10, 'For':20 , 'list':30}]\n",
    "\n",
    "df = pd.DataFrame.from_records(data,index=[1,2])\n",
    "print(df)"
   ]
  },
  {
   "cell_type": "code",
   "execution_count": 19,
   "id": "67face80",
   "metadata": {},
   "outputs": [
    {
     "name": "stdout",
     "output_type": "stream",
     "text": [
      "          Geeks    For\n",
      "ind1  dataframe  using\n",
      "ind2         10     20\n",
      "          Geeks    For      Geeks\n",
      "indx  dataframe  using  dataframe\n",
      "indy         10     20         10\n"
     ]
    }
   ],
   "source": [
    "import pandas as pd\n",
    "data = [{'Geeks':'dataframe','For':'using'},{'Geeks':10 , 'For':20}]\n",
    "\n",
    "df1 = pd.DataFrame(data,index=['ind1','ind2'])\n",
    "\n",
    "df2 = pd.DataFrame(data,index=['indx','indy'],columns=['Geeks','For','Geeks'])\n",
    "\n",
    "print(df1)\n",
    "\n",
    "print(df2)"
   ]
  },
  {
   "cell_type": "code",
   "execution_count": 21,
   "id": "17aafcd5",
   "metadata": {},
   "outputs": [
    {
     "name": "stdout",
     "output_type": "stream",
     "text": [
      "         Country        Capital  Population\n",
      "1  New Country 1  New Capital 1   123456789\n",
      "2  New Country 2  New Capital 2   987654321\n",
      "3   New Country3  New Capital 3   111222333\n"
     ]
    }
   ],
   "source": [
    "#nested Dictionaries in Panda DataFrame\n",
    "import pandas as pd\n",
    "\n",
    "data = [{'Country': 'New Country 1' , 'Capital':'New Capital 1', 'Population': 123456789},\n",
    "       {'Country':'New Country 2','Capital':'New Capital 2','Population':987654321},\n",
    "       {'Country':'New Country3','Capital':'New Capital 3','Population':111222333}]\n",
    "\n",
    "df = pd.DataFrame(data, index=[1,2,3])\n",
    "print(df)"
   ]
  },
  {
   "cell_type": "code",
   "execution_count": 36,
   "id": "e43f8779",
   "metadata": {},
   "outputs": [
    {
     "name": "stdout",
     "output_type": "stream",
     "text": [
      "   Exam Grade           Name\n",
      "1    90     a     Paras Jain\n",
      "2    99     b     Paras Jain\n",
      "3    97     c     Paras Jain\n",
      "4    89     a  Chunky Pandey\n",
      "5    80     b  Chunky Pandey\n"
     ]
    }
   ],
   "source": [
    "import pandas as pd\n",
    "\n",
    "list = [{\n",
    "        \"Student\": [{\"Exam\": 90, \"Grade\": \"a\"},\n",
    "                    {\"Exam\": 99, \"Grade\": \"b\"},\n",
    "                    {\"Exam\": 97, \"Grade\": \"c\"},\n",
    "                    ],\n",
    "        \"Name\": \"Paras Jain\"\n",
    "        },\n",
    "        {\n",
    "        \"Student\": [{\"Exam\": 89, \"Grade\": \"a\"},\n",
    "                    {\"Exam\": 80, \"Grade\": \"b\"}\n",
    "                    ],\n",
    "        \"Name\": \"Chunky Pandey\"\n",
    "        }\n",
    "        ]\n",
    "\n",
    "rows = []\n",
    "for data in list:\n",
    "    data_row = data['Student']\n",
    "#     print(data_row)\n",
    "    time=data['Name']\n",
    "#     print(time)\n",
    "    for row in data_row:\n",
    "        row['Name'] = time\n",
    "#         print(row)\n",
    "        rows.append(row)\n",
    "#         print(rows)\n",
    "        \n",
    "\n",
    "df = pd.DataFrame(rows, index=[1,2,3,4,5])\n",
    "\n",
    "print(df)"
   ]
  },
  {
   "cell_type": "code",
   "execution_count": 30,
   "id": "fe724158",
   "metadata": {},
   "outputs": [
    {
     "name": "stdout",
     "output_type": "stream",
     "text": [
      "            Name  Maths  Physics  Chemistry\n",
      "0  Chunky Pandey   89.0     80.0        NaN\n",
      "1     Paras Jain   90.0     99.0       97.0\n"
     ]
    }
   ],
   "source": [
    "#using pivot table\n",
    "df = df.pivot_table(index='Name',columns=['Grade'],values=['Exam']).reset_index()\n",
    "\n",
    "#defining columns\n",
    "df.columns = ['Name','Maths','Physics','Chemistry']\n",
    "\n",
    "#print dataframe\n",
    "# print(df)"
   ]
  },
  {
   "cell_type": "code",
   "execution_count": 43,
   "id": "9baa53fe",
   "metadata": {},
   "outputs": [
    {
     "name": "stdout",
     "output_type": "stream",
     "text": [
      "                 City        Event   Cost\n",
      "2018-02      New York        Music  10000\n",
      "2018-04       Parague       Poetry   5000\n",
      "2018-06     New Delhi      Theatre  15000\n",
      "2018-10        Venice       Comedy   2000\n",
      "2018-12  New_ Orleans  Tech_Summit  12000\n"
     ]
    }
   ],
   "source": [
    "import pandas as pd \n",
    "\n",
    "df = pd.DataFrame({'City':['New York', 'Parague', 'New Delhi', 'Venice', 'new Orleans'],\n",
    "                  'Event':['Music','Poetry','Theatre','Comedy','Tech_Summit'],\n",
    "                  'Cost':[10000,5000,15000,2000,12000]})\n",
    "\n",
    "# print(df)\n",
    "index_ = [pd.Period('02-2018'), pd.Period('04-2018'),\n",
    "          pd.Period('06-2018'), pd.Period('10-2018'),\n",
    "         pd.Period('12-2018')]\n",
    "\n",
    "df.index = index_ \n",
    "\n",
    "# print(df)\n",
    "\n",
    "#replace the matching strings\n",
    "df_updated = df.replace(to_replace = 'new', value = 'New_' , regex=True)\n",
    "\n",
    "#Print the updated dataframe\n",
    "print(df_updated)"
   ]
  },
  {
   "cell_type": "code",
   "execution_count": 44,
   "id": "54544339",
   "metadata": {},
   "outputs": [],
   "source": [
    "#Thus we can see in the output the old strings have been replaced and the new ones are inserted successfully"
   ]
  },
  {
   "cell_type": "code",
   "execution_count": 45,
   "id": "9a4382e6",
   "metadata": {},
   "outputs": [
    {
     "name": "stdout",
     "output_type": "stream",
     "text": [
      "                      City        Event   Cost\n",
      "2018-02    New York (City)        Music  10000\n",
      "2018-04            Parague       Poetry   5000\n",
      "2018-06  New Delhi (Delhi)      Theatre  15000\n",
      "2018-10             Venice       Comedy   2000\n",
      "2018-12        new Orleans  Tech_Summit  12000\n"
     ]
    }
   ],
   "source": [
    "# importing pandas as pd\n",
    "import pandas as pd\n",
    " \n",
    "# Let's create a Dataframe\n",
    "df = pd.DataFrame({'City':['New York (City)', 'Parague', 'New Delhi (Delhi)', 'Venice', 'new Orleans'],\n",
    "                    'Event':['Music', 'Poetry', 'Theatre', 'Comedy', 'Tech_Summit'],\n",
    "                    'Cost':[10000, 5000, 15000, 2000, 12000]})\n",
    " \n",
    " \n",
    "# Let's create the index\n",
    "index_ = [pd.Period('02-2018'), pd.Period('04-2018'),\n",
    "          pd.Period('06-2018'), pd.Period('10-2018'), pd.Period('12-2018')]\n",
    " \n",
    "# Set the index\n",
    "df.index = index_\n",
    " \n",
    "# Let's print the dataframe\n",
    "print(df)"
   ]
  },
  {
   "cell_type": "code",
   "execution_count": 46,
   "id": "80bbc45d",
   "metadata": {},
   "outputs": [],
   "source": [
    "#Now we will write our own customized function to match the description in the names of the cities "
   ]
  },
  {
   "cell_type": "markdown",
   "id": "f3448426",
   "metadata": {},
   "source": [
    "### Re package import for data cleaning"
   ]
  },
  {
   "cell_type": "code",
   "execution_count": 47,
   "id": "c7d53b6a",
   "metadata": {},
   "outputs": [
    {
     "name": "stdout",
     "output_type": "stream",
     "text": [
      "                City        Event   Cost\n",
      "2018-02    New York         Music  10000\n",
      "2018-04      Parague       Poetry   5000\n",
      "2018-06   New Delhi       Theatre  15000\n",
      "2018-10       Venice       Comedy   2000\n",
      "2018-12  new Orleans  Tech_Summit  12000\n"
     ]
    }
   ],
   "source": [
    "#Importing re package for using regular expressions\n",
    "import re\n",
    "\n",
    "#Function to clean the names \n",
    "def Clean_names(City_name):\n",
    "    #Search for opening bracket in the name followed by any characters repeated any number pf times\n",
    "    if re.search('\\(.*', City_name):\n",
    "        \n",
    "        #Extract the  position of begining of pattern \n",
    "        pos = re.search('\\(.*', City_name).start()\n",
    "        \n",
    "        #return the clean name \n",
    "        return City_name[:pos]\n",
    "    \n",
    "    else:\n",
    "        #if clean up needed return the same name \n",
    "        return City_name\n",
    "    \n",
    "#Updated the city columns \n",
    "df['City'] = df['City'].apply(Clean_names)\n",
    "\n",
    "#Print the updated dataframe \n",
    "print(df)"
   ]
  },
  {
   "cell_type": "code",
   "execution_count": 48,
   "id": "71e3db08",
   "metadata": {},
   "outputs": [
    {
     "name": "stdout",
     "output_type": "stream",
     "text": [
      "0    Jitender\n",
      "1     Purnima\n",
      "2       Arpit\n",
      "3       Jyoti\n",
      "dtype: object\n"
     ]
    }
   ],
   "source": [
    "#Creating Pandas dataFrames from Series\n",
    "\n",
    "import pandas as pd \n",
    "\n",
    "author = ['Jitender', 'Purnima', 'Arpit', 'Jyoti']\n",
    "\n",
    "auth_series = pd.Series(author)\n",
    "\n",
    "print(auth_series)"
   ]
  },
  {
   "cell_type": "code",
   "execution_count": 49,
   "id": "70133361",
   "metadata": {},
   "outputs": [
    {
     "name": "stdout",
     "output_type": "stream",
     "text": [
      "     Author  Article\n",
      "0  Jitender      210\n",
      "1   Purnima      211\n",
      "2     Arpit      114\n",
      "3     Jyoti      178\n"
     ]
    }
   ],
   "source": [
    "#Create dataFrame from multiple series\n",
    "import pandas as pd \n",
    "\n",
    "author = ['Jitender', 'Purnima', 'Arpit', 'Jyoti']\n",
    "article = [210,211,114,178]\n",
    "\n",
    "auth_series = pd.Series(author)\n",
    "article_series = pd.Series(article)\n",
    "\n",
    "frame = {'Author': auth_series,\n",
    "             'Article' : article_series}\n",
    "\n",
    "result = pd.DataFrame(frame)\n",
    "\n",
    "print(result)"
   ]
  },
  {
   "cell_type": "code",
   "execution_count": 51,
   "id": "058757f8",
   "metadata": {},
   "outputs": [
    {
     "name": "stdout",
     "output_type": "stream",
     "text": [
      "     Author  Article  Age\n",
      "0  Jitender      210   21\n",
      "1   Purnima      211   21\n",
      "2     Arpit      114   24\n",
      "3     Jyoti      178   23\n"
     ]
    }
   ],
   "source": [
    "#Adding a new column in a panda data frame \n",
    "import pandas as pd \n",
    "\n",
    "author = ['Jitender', 'Purnima', 'Arpit', 'Jyoti']\n",
    "article = [210,211,114,178]\n",
    "\n",
    "auth_series = pd.Series(author)\n",
    "article_series = pd.Series(article)\n",
    "\n",
    "frame = {'Author': auth_series,\n",
    "             'Article' : article_series}\n",
    "\n",
    "result = pd.DataFrame(frame)\n",
    "\n",
    "age = [21,21,24,23]\n",
    "\n",
    "result['Age'] = pd.Series(age)\n",
    "\n",
    "print(result)"
   ]
  },
  {
   "cell_type": "code",
   "execution_count": 3,
   "id": "9bfb87e1",
   "metadata": {},
   "outputs": [
    {
     "name": "stdout",
     "output_type": "stream",
     "text": [
      "            Date    Event   Cost\n",
      "0      10/2/2011    Music  10000\n",
      "1      11/2/2011   Poetry  12000\n",
      "2      12/2/2011  Theatre   5000\n",
      "3      13/2/2011   Comedy   8000\n"
     ]
    }
   ],
   "source": [
    "import pandas as pd \n",
    "\n",
    "from io import StringIO\n",
    "\n",
    "StringData = StringIO(\"\"\"Date;Event;Cost\n",
    "    10/2/2011;Music;10000\n",
    "    11/2/2011;Poetry;12000\n",
    "    12/2/2011;Theatre;5000\n",
    "    13/2/2011;Comedy;8000\n",
    "    \"\"\")\n",
    "\n",
    "df = pd.read_csv(StringData, sep=\";\")\n",
    "print(df)"
   ]
  },
  {
   "cell_type": "code",
   "execution_count": 4,
   "id": "28ddee66",
   "metadata": {},
   "outputs": [
    {
     "name": "stdout",
     "output_type": "stream",
     "text": [
      "        Date    Product  Updated_Price  Discount\n",
      "0  10/2/2011   UMbreLla           1250        10\n",
      "1  11/2/2011   maTtress           1450         8\n",
      "2  12/2/2011  BaDmintoN           1550        15\n",
      "3  13/2/2011    Shuttle            400        10\n"
     ]
    }
   ],
   "source": [
    "import pandas as pd\n",
    "\n",
    "data = {\"Date\" :['10/2/2011','11/2/2011','12/2/2011','13/2/2011'],\n",
    "       \"Product\":['UMbreLla','maTtress','BaDmintoN','Shuttle'],\n",
    "       \"Updated_Price\":[1250,1450,1550,400],\n",
    "       \"Discount\":[10,8,15,10]}\n",
    "\n",
    "df = pd.DataFrame(data)\n",
    "print(df)"
   ]
  },
  {
   "cell_type": "code",
   "execution_count": 10,
   "id": "4e272c92",
   "metadata": {},
   "outputs": [
    {
     "name": "stdout",
     "output_type": "stream",
     "text": [
      "        Date    Product  Updated_Price  Discount\n",
      "0  10/2/2011   Umbrella           1250        10\n",
      "1  11/2/2011   Mattress           1450         8\n",
      "2  12/2/2011  Badminton           1550        15\n",
      "3  13/2/2011    Shuttle            400        10\n"
     ]
    }
   ],
   "source": [
    "import pandas as pd\n",
    "\n",
    "data = {'Date' :['10/2/2011','11/2/2011','12/2/2011','13/2/2011'],\n",
    "       'Product':['UMbreLla','maTtress','BaDmintoN','Shuttle'],\n",
    "       'Updated_Price':[1250,1450,1550,400],\n",
    "       'Discount':[10,8,15,10]}\n",
    "\n",
    "df = pd.DataFrame(data)\n",
    "\n",
    "#Now we will write our own customized function to solve this type of an error \n",
    "\n",
    "def Format_data(df):\n",
    "    # to iterate over the rows \n",
    "    for i in range(df.shape[0]):\n",
    "        df.iat[i,1]=df.iat[i,1].strip().capitalize()\n",
    "        \n",
    "#Lets call the function\n",
    "Format_data(df)\n",
    "\n",
    "#Print the DataFrame\n",
    "print(df)"
   ]
  },
  {
   "cell_type": "code",
   "execution_count": 12,
   "id": "34bfa651",
   "metadata": {},
   "outputs": [],
   "source": [
    "import pandas as pd \n",
    "\n",
    "data = {'Date':['10/2/2011', '11/2/2011', '12/2/2011', '13/2/2011'],\n",
    "     'Product':[' UMbreLla', '  maTtress', 'BaDmintoN ', 'Shuttle'],\n",
    "     'Updated_Price':[1250, 1450, 1550, 400],\n",
    "     'Discount':[10, 8, 15, 10]}\n",
    "\n",
    "df = pd.DataFrame(data)\n",
    "\n",
    "df['Product'] = df['Product'].apply(lambda x: x.strip().capitalize())"
   ]
  },
  {
   "cell_type": "code",
   "execution_count": 14,
   "id": "c2c5f67c",
   "metadata": {},
   "outputs": [
    {
     "name": "stdout",
     "output_type": "stream",
     "text": [
      "          a         b         c         d         e\n",
      "A  0.685491  0.601543  0.504367  0.577154  0.265073\n",
      "B  0.735435  0.013538  0.881412  0.552068  0.644814\n",
      "C  0.601426  0.652273  0.343900  0.978553  0.710884\n",
      "D  0.557339  0.489910  0.609926  0.541437  0.239447\n",
      "E  0.058945  0.161030  0.622241  0.568411  0.046652\n",
      "\n",
      "\n",
      " Dataframe after reindexing rows:\n",
      "           a         b         c         d         e\n",
      "B  0.735435  0.013538  0.881412  0.552068  0.644814\n",
      "D  0.557339  0.489910  0.609926  0.541437  0.239447\n",
      "A  0.685491  0.601543  0.504367  0.577154  0.265073\n",
      "C  0.601426  0.652273  0.343900  0.978553  0.710884\n",
      "E  0.058945  0.161030  0.622241  0.568411  0.046652\n"
     ]
    }
   ],
   "source": [
    "import pandas as pd \n",
    "import numpy as np\n",
    "\n",
    "column=['a','b','c','d','e']\n",
    "index=['A','B','C','D','E']\n",
    "\n",
    "df1 = pd.DataFrame(np.random.rand(5,5), columns=column, index=index)\n",
    "\n",
    "print(df1)\n",
    "\n",
    "print('\\n\\n Dataframe after reindexing rows:\\n', df1.reindex(['B','D','A','C','E']))"
   ]
  },
  {
   "cell_type": "code",
   "execution_count": 23,
   "id": "afd258fd",
   "metadata": {
    "scrolled": true
   },
   "outputs": [
    {
     "name": "stdout",
     "output_type": "stream",
     "text": [
      "          c         a         b    e    f\n",
      "A  0.429716  0.668370  0.919316  1.5  1.5\n",
      "B  0.859152  0.648085  0.458252  1.5  1.5\n",
      "C  0.364794  0.354506  0.648578  1.5  1.5\n"
     ]
    }
   ],
   "source": [
    "import numpy as np\n",
    "import pandas as pd\n",
    "\n",
    "column=['a','b','c']\n",
    "index=['A','B','C']\n",
    "\n",
    "df1=pd.DataFrame(np.random.rand(3,3), columns=column, index=index)\n",
    "\n",
    "column=['c','a','b','e','f']\n",
    "\n",
    "print(df1.reindex(column,axis='columns', fill_value=1.5))"
   ]
  },
  {
   "cell_type": "code",
   "execution_count": 24,
   "id": "df90634f",
   "metadata": {},
   "outputs": [
    {
     "name": "stdout",
     "output_type": "stream",
     "text": [
      "  index    Name  Age    Address Qualification\n",
      "0     a     Jai   27      Delhi           Msc\n",
      "1     b  Princi   24     Kanpur            MA\n",
      "2     c  Gaurav   22  Allahabad           MCA\n",
      "3     d    Anuj   32    Kannauj           Phd\n",
      "4     e   Geeku   15      Noida          10th\n"
     ]
    }
   ],
   "source": [
    "import pandas as pd\n",
    " \n",
    "data = {'Name':['Jai', 'Princi', 'Gaurav', 'Anuj', 'Geeku'],\n",
    "        'Age':[27, 24, 22, 32, 15],\n",
    "        'Address':['Delhi', 'Kanpur', 'Allahabad', 'Kannauj', 'Noida'],\n",
    "        'Qualification':['Msc', 'MA', 'MCA', 'Phd', '10th'] }\n",
    "\n",
    "index = ['a', 'b', 'c', 'd', 'e']\n",
    "\n",
    "df = pd.DataFrame(data,index)\n",
    "\n",
    "df.reset_index(inplace=True)\n",
    "\n",
    "print(df)"
   ]
  },
  {
   "cell_type": "code",
   "execution_count": 25,
   "id": "417b79ca",
   "metadata": {},
   "outputs": [
    {
     "name": "stdout",
     "output_type": "stream",
     "text": [
      "       Name    Address Qualification\n",
      "Age                                 \n",
      "27      Jai      Delhi           Msc\n",
      "24   Princi     Kanpur            MA\n",
      "22   Gaurav  Allahabad           MCA\n",
      "32     Anuj    Kannauj           Phd\n",
      "15    Geeku      Noida          10th\n"
     ]
    }
   ],
   "source": [
    "#We can also make a column as also an index \n",
    "\n",
    "import pandas as pd\n",
    "\n",
    "data={'Name':['Jai', 'Princi', 'Gaurav', 'Anuj', 'Geeku'],\n",
    "        'Age':[27, 24, 22, 32, 15],\n",
    "        'Address':['Delhi', 'Kanpur', 'Allahabad', 'Kannauj', 'Noida'],\n",
    "        'Qualification':['Msc', 'MA', 'MCA', 'Phd', '10th'] }\n",
    "\n",
    "index = ['a','b','c','d','e']\n",
    "\n",
    "df = pd.DataFrame(data,index)\n",
    "\n",
    "df.set_index(['Age'], inplace=True)\n",
    "\n",
    "print(df)"
   ]
  },
  {
   "cell_type": "code",
   "execution_count": 29,
   "id": "a52e5a7c",
   "metadata": {
    "scrolled": true
   },
   "outputs": [
    {
     "name": "stdout",
     "output_type": "stream",
     "text": [
      "    Name  Age\n",
      "0    Tom   15\n",
      "1   Nick   26\n",
      "2   John   17\n",
      "3  Peter   28\n"
     ]
    }
   ],
   "source": [
    "import pandas as pd\n",
    "\n",
    "data= {'Name':['Tom','Nick','John','Peter'] , 'Age':[15,26,17,28]}\n",
    "df = pd.DataFrame(data)\n",
    "print(df)"
   ]
  },
  {
   "cell_type": "code",
   "execution_count": 30,
   "id": "887d4e90",
   "metadata": {
    "scrolled": true
   },
   "outputs": [
    {
     "name": "stdout",
     "output_type": "stream",
     "text": [
      "       Col_1  Col_2\n",
      "Row_1    Tom     15\n",
      "Row_2   Nick     26\n",
      "Row_3   John     17\n",
      "Row_4  Peter     28\n"
     ]
    }
   ],
   "source": [
    "#For changing the row name and the column name we use df.columns function and df.index function\n",
    "import pandas as pd\n",
    "\n",
    "data= {'Name':['Tom','Nick','John','Peter'] , 'Age':[15,26,17,28]}\n",
    "df = pd.DataFrame(data)\n",
    "\n",
    "df.columns=['Col_1','Col_2']\n",
    "df.index = ['Row_1','Row_2','Row_3','Row_4']\n",
    "\n",
    "print(df)"
   ]
  },
  {
   "cell_type": "code",
   "execution_count": 39,
   "id": "9193b2af",
   "metadata": {},
   "outputs": [
    {
     "name": "stdout",
     "output_type": "stream",
     "text": [
      "       Col_1  Col_2\n",
      "Rod_1    Tom     15\n",
      "Row_2   Nick     26\n",
      "Row_3   John     17\n",
      "Row_4  Peter     28\n"
     ]
    }
   ],
   "source": [
    "#For changing the row name and the column name we use df.columns function and df.index function\n",
    "import pandas as pd\n",
    "\n",
    "data= {'Name':['Tom','Nick','John','Peter'] , 'Age':[15,26,17,28]}\n",
    "df = pd.DataFrame(data)\n",
    "\n",
    "df.columns=['Col_1','Col_2']\n",
    "df.index = ['Row_1','Row_2','Row_3','Row_4']\n",
    "\n",
    "df = df.rename({\"Row_1\":\"Rod_1\"}, axis='index')\n",
    "\n",
    "print(df)"
   ]
  },
  {
   "cell_type": "code",
   "execution_count": 40,
   "id": "82d4aa53",
   "metadata": {},
   "outputs": [
    {
     "name": "stdout",
     "output_type": "stream",
     "text": [
      "     sepal length (cm)  sepal width (cm)  petal length (cm)  petal width (cm)\n",
      "0                  5.1               3.5                1.4               0.2\n",
      "1                  4.9               3.0                1.4               0.2\n",
      "2                  4.7               3.2                1.3               0.2\n",
      "3                  4.6               3.1                1.5               0.2\n",
      "4                  5.0               3.6                1.4               0.2\n",
      "5                  5.4               3.9                1.7               0.4\n",
      "6                  4.6               3.4                1.4               0.3\n",
      "7                  5.0               3.4                1.5               0.2\n",
      "8                  4.4               2.9                1.4               0.2\n",
      "9                  4.9               3.1                1.5               0.1\n",
      "10                 5.4               3.7                1.5               0.2\n",
      "11                 4.8               3.4                1.6               0.2\n",
      "12                 4.8               3.0                1.4               0.1\n",
      "13                 4.3               3.0                1.1               0.1\n",
      "14                 5.8               4.0                1.2               0.2\n",
      "15                 5.7               4.4                1.5               0.4\n",
      "16                 5.4               3.9                1.3               0.4\n",
      "17                 5.1               3.5                1.4               0.3\n",
      "18                 5.7               3.8                1.7               0.3\n",
      "19                 5.1               3.8                1.5               0.3\n",
      "20                 5.4               3.4                1.7               0.2\n",
      "21                 5.1               3.7                1.5               0.4\n",
      "22                 4.6               3.6                1.0               0.2\n",
      "23                 5.1               3.3                1.7               0.5\n",
      "24                 4.8               3.4                1.9               0.2\n",
      "25                 5.0               3.0                1.6               0.2\n",
      "26                 5.0               3.4                1.6               0.4\n",
      "27                 5.2               3.5                1.5               0.2\n",
      "28                 5.2               3.4                1.4               0.2\n",
      "29                 4.7               3.2                1.6               0.2\n",
      "30                 4.8               3.1                1.6               0.2\n",
      "31                 5.4               3.4                1.5               0.4\n",
      "32                 5.2               4.1                1.5               0.1\n",
      "33                 5.5               4.2                1.4               0.2\n",
      "34                 4.9               3.1                1.5               0.2\n",
      "35                 5.0               3.2                1.2               0.2\n",
      "36                 5.5               3.5                1.3               0.2\n",
      "37                 4.9               3.6                1.4               0.1\n",
      "38                 4.4               3.0                1.3               0.2\n",
      "39                 5.1               3.4                1.5               0.2\n",
      "40                 5.0               3.5                1.3               0.3\n",
      "41                 4.5               2.3                1.3               0.3\n",
      "42                 4.4               3.2                1.3               0.2\n",
      "43                 5.0               3.5                1.6               0.6\n",
      "44                 5.1               3.8                1.9               0.4\n",
      "45                 4.8               3.0                1.4               0.3\n",
      "46                 5.1               3.8                1.6               0.2\n",
      "47                 4.6               3.2                1.4               0.2\n",
      "48                 5.3               3.7                1.5               0.2\n",
      "49                 5.0               3.3                1.4               0.2\n",
      "50                 7.0               3.2                4.7               1.4\n",
      "51                 6.4               3.2                4.5               1.5\n",
      "52                 6.9               3.1                4.9               1.5\n",
      "53                 5.5               2.3                4.0               1.3\n",
      "54                 6.5               2.8                4.6               1.5\n",
      "55                 5.7               2.8                4.5               1.3\n",
      "56                 6.3               3.3                4.7               1.6\n",
      "57                 4.9               2.4                3.3               1.0\n",
      "58                 6.6               2.9                4.6               1.3\n",
      "59                 5.2               2.7                3.9               1.4\n",
      "60                 5.0               2.0                3.5               1.0\n",
      "61                 5.9               3.0                4.2               1.5\n",
      "62                 6.0               2.2                4.0               1.0\n",
      "63                 6.1               2.9                4.7               1.4\n",
      "64                 5.6               2.9                3.6               1.3\n",
      "65                 6.7               3.1                4.4               1.4\n",
      "66                 5.6               3.0                4.5               1.5\n",
      "67                 5.8               2.7                4.1               1.0\n",
      "68                 6.2               2.2                4.5               1.5\n",
      "69                 5.6               2.5                3.9               1.1\n",
      "70                 5.9               3.2                4.8               1.8\n",
      "71                 6.1               2.8                4.0               1.3\n",
      "72                 6.3               2.5                4.9               1.5\n",
      "73                 6.1               2.8                4.7               1.2\n",
      "74                 6.4               2.9                4.3               1.3\n",
      "75                 6.6               3.0                4.4               1.4\n",
      "76                 6.8               2.8                4.8               1.4\n",
      "77                 6.7               3.0                5.0               1.7\n",
      "78                 6.0               2.9                4.5               1.5\n",
      "79                 5.7               2.6                3.5               1.0\n",
      "80                 5.5               2.4                3.8               1.1\n",
      "81                 5.5               2.4                3.7               1.0\n",
      "82                 5.8               2.7                3.9               1.2\n",
      "83                 6.0               2.7                5.1               1.6\n",
      "84                 5.4               3.0                4.5               1.5\n",
      "85                 6.0               3.4                4.5               1.6\n",
      "86                 6.7               3.1                4.7               1.5\n",
      "87                 6.3               2.3                4.4               1.3\n",
      "88                 5.6               3.0                4.1               1.3\n",
      "89                 5.5               2.5                4.0               1.3\n",
      "90                 5.5               2.6                4.4               1.2\n",
      "91                 6.1               3.0                4.6               1.4\n",
      "92                 5.8               2.6                4.0               1.2\n",
      "93                 5.0               2.3                3.3               1.0\n",
      "94                 5.6               2.7                4.2               1.3\n",
      "95                 5.7               3.0                4.2               1.2\n",
      "96                 5.7               2.9                4.2               1.3\n",
      "97                 6.2               2.9                4.3               1.3\n",
      "98                 5.1               2.5                3.0               1.1\n",
      "99                 5.7               2.8                4.1               1.3\n",
      "100                6.3               3.3                6.0               2.5\n",
      "101                5.8               2.7                5.1               1.9\n",
      "102                7.1               3.0                5.9               2.1\n",
      "103                6.3               2.9                5.6               1.8\n",
      "104                6.5               3.0                5.8               2.2\n",
      "105                7.6               3.0                6.6               2.1\n",
      "106                4.9               2.5                4.5               1.7\n",
      "107                7.3               2.9                6.3               1.8\n",
      "108                6.7               2.5                5.8               1.8\n",
      "109                7.2               3.6                6.1               2.5\n",
      "110                6.5               3.2                5.1               2.0\n",
      "111                6.4               2.7                5.3               1.9\n",
      "112                6.8               3.0                5.5               2.1\n",
      "113                5.7               2.5                5.0               2.0\n",
      "114                5.8               2.8                5.1               2.4\n",
      "115                6.4               3.2                5.3               2.3\n",
      "116                6.5               3.0                5.5               1.8\n",
      "117                7.7               3.8                6.7               2.2\n",
      "118                7.7               2.6                6.9               2.3\n",
      "119                6.0               2.2                5.0               1.5\n",
      "120                6.9               3.2                5.7               2.3\n",
      "121                5.6               2.8                4.9               2.0\n",
      "122                7.7               2.8                6.7               2.0\n",
      "123                6.3               2.7                4.9               1.8\n",
      "124                6.7               3.3                5.7               2.1\n",
      "125                7.2               3.2                6.0               1.8\n",
      "126                6.2               2.8                4.8               1.8\n",
      "127                6.1               3.0                4.9               1.8\n",
      "128                6.4               2.8                5.6               2.1\n",
      "129                7.2               3.0                5.8               1.6\n",
      "130                7.4               2.8                6.1               1.9\n",
      "131                7.9               3.8                6.4               2.0\n",
      "132                6.4               2.8                5.6               2.2\n",
      "133                6.3               2.8                5.1               1.5\n",
      "134                6.1               2.6                5.6               1.4\n",
      "135                7.7               3.0                6.1               2.3\n",
      "136                6.3               3.4                5.6               2.4\n",
      "137                6.4               3.1                5.5               1.8\n",
      "138                6.0               3.0                4.8               1.8\n",
      "139                6.9               3.1                5.4               2.1\n",
      "140                6.7               3.1                5.6               2.4\n",
      "141                6.9               3.1                5.1               2.3\n",
      "142                5.8               2.7                5.1               1.9\n",
      "143                6.8               3.2                5.9               2.3\n",
      "144                6.7               3.3                5.7               2.5\n",
      "145                6.7               3.0                5.2               2.3\n",
      "146                6.3               2.5                5.0               1.9\n",
      "147                6.5               3.0                5.2               2.0\n",
      "148                6.2               3.4                5.4               2.3\n",
      "149                5.9               3.0                5.1               1.8\n"
     ]
    }
   ],
   "source": [
    "import numpy as np\n",
    "from sklearn.datasets import load_iris\n",
    "import pandas as pd\n",
    " \n",
    "data = load_iris()\n",
    "df = pd.DataFrame(data.data, \n",
    "                  columns = data.feature_names)\n",
    " \n",
    "# The scope of these changes made to\n",
    "# pandas settings are local to with statement.\n",
    "with pd.option_context('display.max_rows', None,\n",
    "                       'display.max_columns', None,\n",
    "                       'display.precision', 3,\n",
    "                       ):\n",
    "    print(df)"
   ]
  },
  {
   "cell_type": "code",
   "execution_count": 43,
   "id": "0a3d4670",
   "metadata": {},
   "outputs": [
    {
     "data": {
      "text/html": [
       "<div>\n",
       "<style scoped>\n",
       "    .dataframe tbody tr th:only-of-type {\n",
       "        vertical-align: middle;\n",
       "    }\n",
       "\n",
       "    .dataframe tbody tr th {\n",
       "        vertical-align: top;\n",
       "    }\n",
       "\n",
       "    .dataframe thead th {\n",
       "        text-align: right;\n",
       "    }\n",
       "</style>\n",
       "<table border=\"1\" class=\"dataframe\">\n",
       "  <thead>\n",
       "    <tr style=\"text-align: right;\">\n",
       "      <th></th>\n",
       "      <th>First Score</th>\n",
       "      <th>Second Score</th>\n",
       "      <th>Third Score</th>\n",
       "    </tr>\n",
       "  </thead>\n",
       "  <tbody>\n",
       "    <tr>\n",
       "      <th>0</th>\n",
       "      <td>False</td>\n",
       "      <td>False</td>\n",
       "      <td>True</td>\n",
       "    </tr>\n",
       "    <tr>\n",
       "      <th>1</th>\n",
       "      <td>False</td>\n",
       "      <td>False</td>\n",
       "      <td>False</td>\n",
       "    </tr>\n",
       "    <tr>\n",
       "      <th>2</th>\n",
       "      <td>True</td>\n",
       "      <td>False</td>\n",
       "      <td>False</td>\n",
       "    </tr>\n",
       "    <tr>\n",
       "      <th>3</th>\n",
       "      <td>False</td>\n",
       "      <td>True</td>\n",
       "      <td>False</td>\n",
       "    </tr>\n",
       "  </tbody>\n",
       "</table>\n",
       "</div>"
      ],
      "text/plain": [
       "   First Score  Second Score  Third Score\n",
       "0        False         False         True\n",
       "1        False         False        False\n",
       "2         True         False        False\n",
       "3        False          True        False"
      ]
     },
     "execution_count": 43,
     "metadata": {},
     "output_type": "execute_result"
    }
   ],
   "source": [
    "import pandas as pd\n",
    "import numpy as np\n",
    "\n",
    "data = {'First Score':[100, 90, np.nan, 95], \n",
    "        'Second Score': [30, 45, 56, np.nan], \n",
    "        'Third Score':[np.nan, 40, 80, 98]}\n",
    "\n",
    "df = pd.DataFrame(data)\n",
    "\n",
    "df.isnull()"
   ]
  },
  {
   "cell_type": "code",
   "execution_count": 50,
   "id": "7a0bd9b1",
   "metadata": {},
   "outputs": [
    {
     "data": {
      "text/html": [
       "<div>\n",
       "<style scoped>\n",
       "    .dataframe tbody tr th:only-of-type {\n",
       "        vertical-align: middle;\n",
       "    }\n",
       "\n",
       "    .dataframe tbody tr th {\n",
       "        vertical-align: top;\n",
       "    }\n",
       "\n",
       "    .dataframe thead th {\n",
       "        text-align: right;\n",
       "    }\n",
       "</style>\n",
       "<table border=\"1\" class=\"dataframe\">\n",
       "  <thead>\n",
       "    <tr style=\"text-align: right;\">\n",
       "      <th></th>\n",
       "      <th>First Score</th>\n",
       "      <th>Second Score</th>\n",
       "      <th>Thirs Score</th>\n",
       "    </tr>\n",
       "  </thead>\n",
       "  <tbody>\n",
       "    <tr>\n",
       "      <th>0</th>\n",
       "      <td>100.0</td>\n",
       "      <td>30.0</td>\n",
       "      <td>-99.0</td>\n",
       "    </tr>\n",
       "    <tr>\n",
       "      <th>1</th>\n",
       "      <td>90.0</td>\n",
       "      <td>45.0</td>\n",
       "      <td>40.0</td>\n",
       "    </tr>\n",
       "    <tr>\n",
       "      <th>2</th>\n",
       "      <td>-99.0</td>\n",
       "      <td>56.0</td>\n",
       "      <td>80.0</td>\n",
       "    </tr>\n",
       "    <tr>\n",
       "      <th>3</th>\n",
       "      <td>95.0</td>\n",
       "      <td>-99.0</td>\n",
       "      <td>98.0</td>\n",
       "    </tr>\n",
       "  </tbody>\n",
       "</table>\n",
       "</div>"
      ],
      "text/plain": [
       "   First Score  Second Score  Thirs Score\n",
       "0        100.0          30.0        -99.0\n",
       "1         90.0          45.0         40.0\n",
       "2        -99.0          56.0         80.0\n",
       "3         95.0         -99.0         98.0"
      ]
     },
     "execution_count": 50,
     "metadata": {},
     "output_type": "execute_result"
    }
   ],
   "source": [
    "import numpy as np\n",
    "import pandas as pd\n",
    "\n",
    "data = {'First Score':[100.0, 90.0, np.nan ,95.0],\n",
    "       'Second Score':[30.0,45.0,56.0,np.nan],\n",
    "       'Thirs Score':[np.nan, 40.0, 80.0, 98.0]}\n",
    "\n",
    "df = pd.DataFrame(data)\n",
    "\n",
    "df.replace(to_replace = np.nan, value=-99)"
   ]
  },
  {
   "cell_type": "code",
   "execution_count": null,
   "id": "c8458306",
   "metadata": {},
   "outputs": [],
   "source": []
  }
 ],
 "metadata": {
  "kernelspec": {
   "display_name": "Python 3 (ipykernel)",
   "language": "python",
   "name": "python3"
  },
  "language_info": {
   "codemirror_mode": {
    "name": "ipython",
    "version": 3
   },
   "file_extension": ".py",
   "mimetype": "text/x-python",
   "name": "python",
   "nbconvert_exporter": "python",
   "pygments_lexer": "ipython3",
   "version": "3.11.4"
  }
 },
 "nbformat": 4,
 "nbformat_minor": 5
}
