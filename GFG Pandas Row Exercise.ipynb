{
 "cells": [
  {
   "cell_type": "code",
   "execution_count": 9,
   "id": "2188b9ea",
   "metadata": {},
   "outputs": [
    {
     "name": "stdout",
     "output_type": "stream",
     "text": [
      "      name  age  A\n",
      "0  Surjeet   10  L\n",
      "1   Sameer   11  K\n",
      "2    Sumit   12  V \n",
      "\n",
      "Surjeet 10 L\n",
      "Sameer 11 K\n",
      "Sumit 12 V\n"
     ]
    }
   ],
   "source": [
    "import pandas as pd\n",
    "\n",
    "data = [{'name':'Surjeet', 'age':10 , 'A':'L'},\n",
    "          {'name':'Sameer', 'age':11 , 'A':'K'},\n",
    "          {'name':'Sumit', 'age':12 , 'A':'V'}]\n",
    "\n",
    "df = pd.DataFrame(data)\n",
    "print(df,'\\n')\n",
    "\n",
    "for index,row in df.iterrows():\n",
    "    print(row['name'], row['age'], row['A'])"
   ]
  },
  {
   "cell_type": "code",
   "execution_count": 17,
   "id": "9a6166e5",
   "metadata": {
    "scrolled": true
   },
   "outputs": [
    {
     "name": "stdout",
     "output_type": "stream",
     "text": [
      "        Name  Age    Stream  Percentage\n",
      "0      Ankit   21      Math          88\n",
      "1       Amit   19  Commerce          92\n",
      "2  Aishwarya   20      Arts          95\n",
      "3   Priyanka   18   Biology          70 \n",
      "\n",
      "Ankit Math\n",
      "Amit Commerce\n",
      "Aishwarya Arts\n",
      "Priyanka Biology\n"
     ]
    }
   ],
   "source": [
    "import pandas as pd \n",
    "\n",
    "data = {'Name': ['Ankit', 'Amit',\n",
    "                 'Aishwarya', 'Priyanka'],\n",
    "        'Age': [21, 19, 20, 18],\n",
    "        'Stream': ['Math', 'Commerce',\n",
    "                   'Arts', 'Biology'],\n",
    "        'Percentage': [88, 92, 95, 70]}\n",
    "\n",
    "df = pd.DataFrame(data, columns=['Name','Age','Stream','Percentage'])\n",
    "print(df,'\\n')\n",
    "\n",
    "for ind in df.index:\n",
    "    print(df['Name'][ind], df['Stream'][ind])"
   ]
  },
  {
   "cell_type": "code",
   "execution_count": 28,
   "id": "368a7222",
   "metadata": {
    "scrolled": true
   },
   "outputs": [
    {
     "name": "stdout",
     "output_type": "stream",
     "text": [
      "Using loc function \n",
      "\n",
      "Ankit Math\n",
      "Amit Commerce\n",
      "Aishwarya Arts\n",
      "Priyanka Biology\n",
      "\n",
      "\n",
      "Using iloc function \n",
      "\n",
      "Ankit Math\n",
      "Amit Commerce\n",
      "Aishwarya Arts\n",
      "Priyanka Biology\n",
      "\n",
      "\n"
     ]
    }
   ],
   "source": [
    "import pandas as pd \n",
    "\n",
    "data = {'Name': ['Ankit', 'Amit',\n",
    "                 'Aishwarya', 'Priyanka'],\n",
    "        'Age': [21, 19, 20, 18],\n",
    "        'Stream': ['Math', 'Commerce',\n",
    "                   'Arts', 'Biology'],\n",
    "        'Percentage': [88, 92, 95, 70]}\n",
    "\n",
    "df = pd.DataFrame(data,columns=['Name','Age','Stream','Percentage'])\n",
    "\n",
    "print('Using loc function \\n') \n",
    "for i in range(len(df)):\n",
    "    print(df.loc[i][0], df.loc[i][2])\n",
    "    \n",
    "print('\\n')\n",
    "\n",
    "\n",
    "print('Using iloc function \\n')\n",
    "for i in range(len(df)):\n",
    "    print(df.iloc[i][0],df.iloc[i][2])\n",
    "    \n",
    "print('\\n')"
   ]
  },
  {
   "cell_type": "code",
   "execution_count": 29,
   "id": "448a7487",
   "metadata": {
    "scrolled": true
   },
   "outputs": [
    {
     "name": "stdout",
     "output_type": "stream",
     "text": [
      "Given Dataframe :\n",
      "         Name  Age    Stream  Percentage\n",
      "0      Ankit   21      Math          88\n",
      "1       Amit   19  Commerce          92\n",
      "2  Aishwarya   20      Arts          95\n",
      "3   Priyanka   18   Biology          70\n",
      "\n",
      "Iterating over rows using apply function: \n",
      "\n",
      "0        Ankit 88\n",
      "1         Amit 92\n",
      "2    Aishwarya 95\n",
      "3     Priyanka 70\n",
      "dtype: object\n"
     ]
    }
   ],
   "source": [
    "import pandas as pd \n",
    "\n",
    "data = {'Name': ['Ankit', 'Amit', 'Aishwarya',\n",
    "                 'Priyanka'],\n",
    "        'Age': [21, 19, 20, 18],\n",
    "        'Stream': ['Math', 'Commerce', 'Arts',\n",
    "                   'Biology'],\n",
    "        'Percentage': [88, 92, 95, 70]}\n",
    "\n",
    "df = pd.DataFrame(data,columns=['Name','Age','Stream','Percentage'])\n",
    "\n",
    "print(\"Given Dataframe :\\n\", df)\n",
    "\n",
    "print(\"\\nIterating over rows using apply function: \\n\")\n",
    "\n",
    "print(df.apply(lambda row:row[\"Name\"] + \" \" + str(row[\"Percentage\"]), axis=1))"
   ]
  },
  {
   "cell_type": "code",
   "execution_count": 42,
   "id": "5e6b4b8a",
   "metadata": {
    "scrolled": false
   },
   "outputs": [
    {
     "data": {
      "text/html": [
       "<div>\n",
       "<style scoped>\n",
       "    .dataframe tbody tr th:only-of-type {\n",
       "        vertical-align: middle;\n",
       "    }\n",
       "\n",
       "    .dataframe tbody tr th {\n",
       "        vertical-align: top;\n",
       "    }\n",
       "\n",
       "    .dataframe thead th {\n",
       "        text-align: right;\n",
       "    }\n",
       "</style>\n",
       "<table border=\"1\" class=\"dataframe\">\n",
       "  <thead>\n",
       "    <tr style=\"text-align: right;\">\n",
       "      <th></th>\n",
       "      <th>Name</th>\n",
       "      <th>Age</th>\n",
       "      <th>Stream</th>\n",
       "      <th>Percentage</th>\n",
       "    </tr>\n",
       "  </thead>\n",
       "  <tbody>\n",
       "    <tr>\n",
       "      <th>2</th>\n",
       "      <td>Aishwarya</td>\n",
       "      <td>20</td>\n",
       "      <td>Science</td>\n",
       "      <td>95</td>\n",
       "    </tr>\n",
       "    <tr>\n",
       "      <th>5</th>\n",
       "      <td>Shaurya</td>\n",
       "      <td>21</td>\n",
       "      <td>Science</td>\n",
       "      <td>78</td>\n",
       "    </tr>\n",
       "  </tbody>\n",
       "</table>\n",
       "</div>"
      ],
      "text/plain": [
       "        Name  Age   Stream  Percentage\n",
       "2  Aishwarya   20  Science          95\n",
       "5    Shaurya   21  Science          78"
      ]
     },
     "execution_count": 42,
     "metadata": {},
     "output_type": "execute_result"
    }
   ],
   "source": [
    "import pandas as pd\n",
    "\n",
    "record = {\n",
    "\n",
    " 'Name': ['Ankit', 'Amit', 'Aishwarya', 'Priyanka', 'Priya', 'Shaurya' ],\n",
    " 'Age': [21, 19, 20, 18, 17, 21],\n",
    " 'Stream': ['Math', 'Commerce', 'Science', 'Math', 'Math', 'Science'],\n",
    " 'Percentage': [88, 92, 95, 70, 65, 78] }\n",
    "\n",
    "# create a dataframe\n",
    "df = pd.DataFrame(record, columns = ['Name', 'Age', 'Stream', 'Percentage'])\n",
    "\n",
    "df[(df['Stream']!='Math') & (df['Stream']!='Commerce')]\n"
   ]
  },
  {
   "cell_type": "code",
   "execution_count": 44,
   "id": "3bf22509",
   "metadata": {
    "scrolled": true
   },
   "outputs": [
    {
     "name": "stdout",
     "output_type": "stream",
     "text": [
      "[['10/2/2011', 'Music', 10000], ['11/2/2011', 'Poetry', 5000], ['12/2/2011', 'Theatre', 15000]]\n"
     ]
    }
   ],
   "source": [
    "import pandas as pd\n",
    "\n",
    "df = pd.DataFrame({'Date':['10/2/2011', '11/2/2011', '12/2/2011', '13/2/11'], \n",
    "                    'Event':['Music', 'Poetry', 'Theatre', 'Comedy'], \n",
    "                    'Cost':[10000, 5000, 15000, 2000]})\n",
    "\n",
    "Row_list=[]\n",
    "\n",
    "for i in range((df.shape[0])):\n",
    "    Row_list.append(list(df.iloc[i,:]))\n",
    "    \n",
    "print(Row_list[:3])"
   ]
  },
  {
   "cell_type": "code",
   "execution_count": 53,
   "id": "13a0d82c",
   "metadata": {},
   "outputs": [
    {
     "name": "stdout",
     "output_type": "stream",
     "text": [
      "     Name Qualification\n",
      "1  Princi            MA\n",
      "2  Gaurav           MCA\n",
      "3    Anuj           Phd\n"
     ]
    }
   ],
   "source": [
    "import pandas as pd  \n",
    "    \n",
    "# Define a dictionary containing employee data  \n",
    "data = {'Name':['Jai', 'Princi', 'Gaurav', 'Anuj'],  \n",
    "        'Age':[27, 24, 22, 32],  \n",
    "        'Address':['Delhi', 'Kanpur', 'Allahabad', 'Kannauj'],  \n",
    "        'Qualification':['Msc', 'MA', 'MCA', 'Phd']}  \n",
    "    \n",
    "df = pd.DataFrame(data)\n",
    "\n",
    "# for i in range(1,3):\n",
    "#     print(df.loc[i]['Name'], df.loc[i]['Qualification'])\n",
    "\n",
    "print(df.loc[1:3 , ['Name','Qualification']])"
   ]
  },
  {
   "cell_type": "code",
   "execution_count": 54,
   "id": "e339ce1e",
   "metadata": {},
   "outputs": [
    {
     "name": "stdout",
     "output_type": "stream",
     "text": [
      "Address          Delhi\n",
      "Age                 27\n",
      "Name               Jai\n",
      "Qualification      Msc\n",
      "Name: 0, dtype: object\n"
     ]
    }
   ],
   "source": [
    "import pandas as pd  \n",
    "    \n",
    "# Define a dictionary containing employee data  \n",
    "data = {'Name':['Jai', 'Princi', 'Gaurav', 'Anuj'],  \n",
    "        'Age':[27, 24, 22, 32],  \n",
    "        'Address':['Delhi', 'Kanpur', 'Allahabad', 'Kannauj'],  \n",
    "        'Qualification':['Msc', 'MA', 'MCA', 'Phd']} \n",
    "\n",
    "df=pd.DataFrame(data)\n",
    "\n",
    "print(df.loc[0,['Address','Age','Name','Qualification']])"
   ]
  },
  {
   "cell_type": "code",
   "execution_count": 57,
   "id": "a0d9ceba",
   "metadata": {},
   "outputs": [
    {
     "name": "stdout",
     "output_type": "stream",
     "text": [
      "   Age    Name\n",
      "0   27     Jai\n",
      "1   24  Princi\n"
     ]
    }
   ],
   "source": [
    "import pandas as pd  \n",
    "    \n",
    "# Define a dictionary containing employee data  \n",
    "data = {'Name':['Jai', 'Princi', 'Gaurav', 'Anuj'],  \n",
    "        'Age':[27, 24, 22, 32],  \n",
    "        'Address':['Delhi', 'Kanpur', 'Allahabad', 'Kannauj'],  \n",
    "        'Qualification':['Msc', 'MA', 'MCA', 'Phd']} \n",
    "\n",
    "df=pd.DataFrame(data)\n",
    "\n",
    "print(df.loc[0:1 , ['Age', 'Name']])"
   ]
  },
  {
   "cell_type": "code",
   "execution_count": 60,
   "id": "6c5403da",
   "metadata": {},
   "outputs": [
    {
     "name": "stdout",
     "output_type": "stream",
     "text": [
      "   Age Address\n",
      "0   27   Delhi\n",
      "1   24  Kanpur\n"
     ]
    }
   ],
   "source": [
    "#M-2 \n",
    "import pandas as pd  \n",
    "    \n",
    "# Define a dictionary containing employee data  \n",
    "data = {'Name':['Jai', 'Princi', 'Gaurav', 'Anuj'],  \n",
    "        'Age':[27, 24, 22, 32],  \n",
    "        'Address':['Delhi', 'Kanpur', 'Allahabad', 'Kannauj'],  \n",
    "        'Qualification':['Msc', 'MA', 'MCA', 'Phd']} \n",
    "\n",
    "df = pd.DataFrame(data)\n",
    "\n",
    "print(df.iloc[0:2,1:3])\n"
   ]
  },
  {
   "cell_type": "code",
   "execution_count": 61,
   "id": "92bbd96f",
   "metadata": {},
   "outputs": [],
   "source": [
    "#https://www.geeksforgeeks.org/drop-rows-from-the-dataframe-based-on-certain-condition-applied-on-a-column/?ref=next_article\n",
    "#Imp link for applying conditions on column by droping rows\n",
    "# filtered_df = df[df['Age']>=25]\n",
    "#print(filtered_df.head(10))\n",
    "\n",
    "# indexAge = df[([df['Age'] >=20) & (df['Age']<=25)].index\n",
    "# df.drop(indexAge, inplace=True)\n",
    "# df.head(15)"
   ]
  },
  {
   "cell_type": "code",
   "execution_count": 67,
   "id": "2106e8f4",
   "metadata": {},
   "outputs": [
    {
     "name": "stdout",
     "output_type": "stream",
     "text": [
      "    name  age gender\n",
      "0  Alice   25      F\n",
      "1    Bob   30      M\n"
     ]
    }
   ],
   "source": [
    "import pandas as pd\n",
    "\n",
    "data = {'name': ['Alice', 'Bob', 'Charlie', 'Dave'],\n",
    "        'age': [25, 30, 35, 40],\n",
    "        'gender': ['F', 'M', 'M', 'M']}\n",
    "df = pd.DataFrame(data)\n",
    "\n",
    "df_new = df.loc[df['age']<=30]\n",
    "\n",
    "print(df_new)"
   ]
  },
  {
   "cell_type": "code",
   "execution_count": 5,
   "id": "e5dc88e6",
   "metadata": {},
   "outputs": [
    {
     "name": "stdout",
     "output_type": "stream",
     "text": [
      "Sorting rows by Science:\n",
      " \n",
      "      name  Maths  Science  English\n",
      "1   Marsh      5        9        4\n",
      "0   Simon      8        7        7\n",
      "4  Selena      7        7        8\n",
      "2  Gaurav      6        5        7\n",
      "3    Alex      9        4        6\n"
     ]
    }
   ],
   "source": [
    "import pandas as pd \n",
    "\n",
    "data = {'name':['Simon','Marsh','Gaurav','Alex','Selena'],\n",
    "       'Maths': [8,5,6,9,7],\n",
    "       'Science':[7,9,5,4,7],\n",
    "       'English':[7,4,7,6,8]}\n",
    "\n",
    "df = pd.DataFrame(data)\n",
    "\n",
    "a=df.sort_values(by='Science', ascending =0)\n",
    "print(\"Sorting rows by Science:\\n \\n\",a)"
   ]
  },
  {
   "cell_type": "code",
   "execution_count": 7,
   "id": "d2d172e4",
   "metadata": {
    "scrolled": true
   },
   "outputs": [
    {
     "name": "stdout",
     "output_type": "stream",
     "text": [
      "   English  Maths  Science    name\n",
      "0        4      5        9   Marsh\n",
      "1        7      6        5  Gaurav\n",
      "2        8      7        7  Selena\n",
      "3        7      8        7   Simon\n",
      "4        6      9        4    Alex\n"
     ]
    }
   ],
   "source": [
    "import pandas as pd \n",
    "\n",
    "data = {'English':[4,7,8,7,6],\n",
    "       'Maths':[5,6,7,8,9],\n",
    "       'Science':[9,5,7,7,4],\n",
    "       'name':['Marsh','Gaurav','Selena','Simon','Alex']}\n",
    "\n",
    "df = pd.DataFrame(data)\n",
    "\n",
    "b = df.sort_values(by=['Maths', 'English'])\n",
    "print(b)"
   ]
  },
  {
   "cell_type": "code",
   "execution_count": 8,
   "id": "105978f6",
   "metadata": {},
   "outputs": [
    {
     "name": "stdout",
     "output_type": "stream",
     "text": [
      "       Driver  Points  Age\n",
      "0    Hamilton     408   33\n",
      "1      Vettel     320   31\n",
      "2   Raikkonen     251   39\n",
      "3  Verstappen     249   21\n",
      "4      Bottas     247   29\n",
      "5   Ricciardo     170   29\n",
      "6  Hulkenberg      69   31\n",
      "7       Perez      62   28\n",
      "8   Magnussen      56   26\n",
      "9       Sainz      53   24\n"
     ]
    }
   ],
   "source": [
    "# importing pandas and numpy\n",
    "import pandas as pd\n",
    "import numpy as np\n",
    " \n",
    "# data of 2018 drivers world championship\n",
    "dict1 = {'Driver': ['Hamilton', 'Vettel', 'Raikkonen',\n",
    "                    'Verstappen', 'Bottas', 'Ricciardo',\n",
    "                    'Hulkenberg', 'Perez', 'Magnussen',\n",
    "                    'Sainz', 'Alonso', 'Ocon', 'Leclerc',\n",
    "                    'Grosjean', 'Gasly', 'Vandoorne',\n",
    "                    'Ericsson', 'Stroll', 'Hartley', 'Sirotkin'],\n",
    " \n",
    "         'Points': [408, 320, 251, 249, 247, 170, 69, 62, 56,\n",
    "                    53, 50, 49, 39, 37, 29, 12, 9, 6, 4, 1],\n",
    " \n",
    "         'Age': [33, 31, 39, 21, 29, 29, 31, 28, 26, 24, 37,\n",
    "                 22, 21, 32, 22, 26, 28, 20, 29, 23]}\n",
    " \n",
    "# creating dataframe using DataFrame constructor\n",
    "df = pd.DataFrame(dict1)\n",
    "print(df.head(10))"
   ]
  },
  {
   "cell_type": "code",
   "execution_count": 9,
   "id": "74528b28",
   "metadata": {
    "scrolled": true
   },
   "outputs": [
    {
     "data": {
      "text/html": [
       "<div>\n",
       "<style scoped>\n",
       "    .dataframe tbody tr th:only-of-type {\n",
       "        vertical-align: middle;\n",
       "    }\n",
       "\n",
       "    .dataframe tbody tr th {\n",
       "        vertical-align: top;\n",
       "    }\n",
       "\n",
       "    .dataframe thead th {\n",
       "        text-align: right;\n",
       "    }\n",
       "</style>\n",
       "<table border=\"1\" class=\"dataframe\">\n",
       "  <thead>\n",
       "    <tr style=\"text-align: right;\">\n",
       "      <th></th>\n",
       "      <th>Points</th>\n",
       "      <th>Age</th>\n",
       "    </tr>\n",
       "  </thead>\n",
       "  <tbody>\n",
       "    <tr>\n",
       "      <th>count</th>\n",
       "      <td>20.000000</td>\n",
       "      <td>20.000000</td>\n",
       "    </tr>\n",
       "    <tr>\n",
       "      <th>mean</th>\n",
       "      <td>106.050000</td>\n",
       "      <td>27.550000</td>\n",
       "    </tr>\n",
       "    <tr>\n",
       "      <th>std</th>\n",
       "      <td>121.893601</td>\n",
       "      <td>5.345682</td>\n",
       "    </tr>\n",
       "    <tr>\n",
       "      <th>min</th>\n",
       "      <td>1.000000</td>\n",
       "      <td>20.000000</td>\n",
       "    </tr>\n",
       "    <tr>\n",
       "      <th>25%</th>\n",
       "      <td>24.750000</td>\n",
       "      <td>22.750000</td>\n",
       "    </tr>\n",
       "    <tr>\n",
       "      <th>50%</th>\n",
       "      <td>51.500000</td>\n",
       "      <td>28.000000</td>\n",
       "    </tr>\n",
       "    <tr>\n",
       "      <th>75%</th>\n",
       "      <td>189.250000</td>\n",
       "      <td>31.000000</td>\n",
       "    </tr>\n",
       "    <tr>\n",
       "      <th>max</th>\n",
       "      <td>408.000000</td>\n",
       "      <td>39.000000</td>\n",
       "    </tr>\n",
       "  </tbody>\n",
       "</table>\n",
       "</div>"
      ],
      "text/plain": [
       "           Points        Age\n",
       "count   20.000000  20.000000\n",
       "mean   106.050000  27.550000\n",
       "std    121.893601   5.345682\n",
       "min      1.000000  20.000000\n",
       "25%     24.750000  22.750000\n",
       "50%     51.500000  28.000000\n",
       "75%    189.250000  31.000000\n",
       "max    408.000000  39.000000"
      ]
     },
     "execution_count": 9,
     "metadata": {},
     "output_type": "execute_result"
    }
   ],
   "source": [
    "df.describe()"
   ]
  },
  {
   "cell_type": "code",
   "execution_count": 10,
   "id": "29db3077",
   "metadata": {},
   "outputs": [
    {
     "name": "stdout",
     "output_type": "stream",
     "text": [
      "Driver    Vettel\n",
      "Points       408\n",
      "Age           39\n",
      "dtype: object\n"
     ]
    }
   ],
   "source": [
    "print(df.max())"
   ]
  },
  {
   "cell_type": "code",
   "execution_count": 11,
   "id": "438210e1",
   "metadata": {},
   "outputs": [
    {
     "data": {
      "text/html": [
       "<div>\n",
       "<style scoped>\n",
       "    .dataframe tbody tr th:only-of-type {\n",
       "        vertical-align: middle;\n",
       "    }\n",
       "\n",
       "    .dataframe tbody tr th {\n",
       "        vertical-align: top;\n",
       "    }\n",
       "\n",
       "    .dataframe thead th {\n",
       "        text-align: right;\n",
       "    }\n",
       "</style>\n",
       "<table border=\"1\" class=\"dataframe\">\n",
       "  <thead>\n",
       "    <tr style=\"text-align: right;\">\n",
       "      <th></th>\n",
       "      <th>Driver</th>\n",
       "      <th>Points</th>\n",
       "      <th>Age</th>\n",
       "    </tr>\n",
       "  </thead>\n",
       "  <tbody>\n",
       "    <tr>\n",
       "      <th>0</th>\n",
       "      <td>Hamilton</td>\n",
       "      <td>408</td>\n",
       "      <td>33</td>\n",
       "    </tr>\n",
       "  </tbody>\n",
       "</table>\n",
       "</div>"
      ],
      "text/plain": [
       "     Driver  Points  Age\n",
       "0  Hamilton     408   33"
      ]
     },
     "execution_count": 11,
     "metadata": {},
     "output_type": "execute_result"
    }
   ],
   "source": [
    "df[df.Points==df.Points.max()]"
   ]
  },
  {
   "cell_type": "code",
   "execution_count": 12,
   "id": "8401c3e2",
   "metadata": {},
   "outputs": [
    {
     "data": {
      "text/html": [
       "<div>\n",
       "<style scoped>\n",
       "    .dataframe tbody tr th:only-of-type {\n",
       "        vertical-align: middle;\n",
       "    }\n",
       "\n",
       "    .dataframe tbody tr th {\n",
       "        vertical-align: top;\n",
       "    }\n",
       "\n",
       "    .dataframe thead th {\n",
       "        text-align: right;\n",
       "    }\n",
       "</style>\n",
       "<table border=\"1\" class=\"dataframe\">\n",
       "  <thead>\n",
       "    <tr style=\"text-align: right;\">\n",
       "      <th></th>\n",
       "      <th>Driver</th>\n",
       "      <th>Points</th>\n",
       "      <th>Age</th>\n",
       "    </tr>\n",
       "  </thead>\n",
       "  <tbody>\n",
       "    <tr>\n",
       "      <th>2</th>\n",
       "      <td>Raikkonen</td>\n",
       "      <td>251</td>\n",
       "      <td>39</td>\n",
       "    </tr>\n",
       "  </tbody>\n",
       "</table>\n",
       "</div>"
      ],
      "text/plain": [
       "      Driver  Points  Age\n",
       "2  Raikkonen     251   39"
      ]
     },
     "execution_count": 12,
     "metadata": {},
     "output_type": "execute_result"
    }
   ],
   "source": [
    "df[df.Age==df.Age.max()]"
   ]
  },
  {
   "cell_type": "code",
   "execution_count": 13,
   "id": "a8306819",
   "metadata": {},
   "outputs": [
    {
     "name": "stdout",
     "output_type": "stream",
     "text": [
      "Driver    Alonso\n",
      "Points         1\n",
      "Age           20\n",
      "dtype: object\n"
     ]
    }
   ],
   "source": [
    "print(df.min())"
   ]
  },
  {
   "cell_type": "code",
   "execution_count": 14,
   "id": "4c113f3d",
   "metadata": {},
   "outputs": [
    {
     "data": {
      "text/html": [
       "<div>\n",
       "<style scoped>\n",
       "    .dataframe tbody tr th:only-of-type {\n",
       "        vertical-align: middle;\n",
       "    }\n",
       "\n",
       "    .dataframe tbody tr th {\n",
       "        vertical-align: top;\n",
       "    }\n",
       "\n",
       "    .dataframe thead th {\n",
       "        text-align: right;\n",
       "    }\n",
       "</style>\n",
       "<table border=\"1\" class=\"dataframe\">\n",
       "  <thead>\n",
       "    <tr style=\"text-align: right;\">\n",
       "      <th></th>\n",
       "      <th>Driver</th>\n",
       "      <th>Points</th>\n",
       "      <th>Age</th>\n",
       "    </tr>\n",
       "  </thead>\n",
       "  <tbody>\n",
       "    <tr>\n",
       "      <th>19</th>\n",
       "      <td>Sirotkin</td>\n",
       "      <td>1</td>\n",
       "      <td>23</td>\n",
       "    </tr>\n",
       "  </tbody>\n",
       "</table>\n",
       "</div>"
      ],
      "text/plain": [
       "      Driver  Points  Age\n",
       "19  Sirotkin       1   23"
      ]
     },
     "execution_count": 14,
     "metadata": {},
     "output_type": "execute_result"
    }
   ],
   "source": [
    "df[df.Points==df.Points.min()]"
   ]
  },
  {
   "cell_type": "code",
   "execution_count": 15,
   "id": "3d925cdb",
   "metadata": {},
   "outputs": [
    {
     "data": {
      "text/html": [
       "<div>\n",
       "<style scoped>\n",
       "    .dataframe tbody tr th:only-of-type {\n",
       "        vertical-align: middle;\n",
       "    }\n",
       "\n",
       "    .dataframe tbody tr th {\n",
       "        vertical-align: top;\n",
       "    }\n",
       "\n",
       "    .dataframe thead th {\n",
       "        text-align: right;\n",
       "    }\n",
       "</style>\n",
       "<table border=\"1\" class=\"dataframe\">\n",
       "  <thead>\n",
       "    <tr style=\"text-align: right;\">\n",
       "      <th></th>\n",
       "      <th>Driver</th>\n",
       "      <th>Points</th>\n",
       "      <th>Age</th>\n",
       "    </tr>\n",
       "  </thead>\n",
       "  <tbody>\n",
       "    <tr>\n",
       "      <th>17</th>\n",
       "      <td>Stroll</td>\n",
       "      <td>6</td>\n",
       "      <td>20</td>\n",
       "    </tr>\n",
       "  </tbody>\n",
       "</table>\n",
       "</div>"
      ],
      "text/plain": [
       "    Driver  Points  Age\n",
       "17  Stroll       6   20"
      ]
     },
     "execution_count": 15,
     "metadata": {},
     "output_type": "execute_result"
    }
   ],
   "source": [
    "df[df.Age==df.Age.min()]"
   ]
  },
  {
   "cell_type": "code",
   "execution_count": 18,
   "id": "108452c7",
   "metadata": {},
   "outputs": [
    {
     "name": "stdout",
     "output_type": "stream",
     "text": [
      "Check PG values in Position column:\n",
      "\n",
      "ind1     True\n",
      "ind2     True\n",
      "ind3    False\n",
      "ind4     True\n",
      "ind5    False\n",
      "Name: Position, dtype: bool\n"
     ]
    }
   ],
   "source": [
    "import pandas as pd \n",
    "\n",
    "df = pd.DataFrame({'Name': ['Geeks', 'Peter', 'James', 'Jack', 'Lisa'], \n",
    "                   'Team': ['Boston', 'Boston', 'Boston', 'Chele', 'Barse'], \n",
    "                   'Position': ['PG', 'PG', 'UG', 'PG', 'UG'], \n",
    "                   'Number': [3, 4, 7, 11, 5], \n",
    "                   'Age': [33, 25, 34, 35, 28], \n",
    "                   'Height': ['6-2', '6-4', '5-9', '6-1', '5-8'], \n",
    "                   'Weight': [89, 79, 113, 78, 84], \n",
    "                   'College': ['MIT', 'MIT', 'MIT', 'Stanford', 'Stanford'], \n",
    "                   'Salary': [99999, 99994, 89999, 78889, 87779]}, \n",
    "                   index =['ind1', 'ind2', 'ind3', 'ind4', 'ind5'])\n",
    "\n",
    "# print(df,\"\\n\")\n",
    "\n",
    "print(\"Check PG values in Position column:\\n\")\n",
    "df1 = df['Position'].str.contains(\"PG\")\n",
    "print(df1)"
   ]
  },
  {
   "cell_type": "code",
   "execution_count": 19,
   "id": "eccb7066",
   "metadata": {},
   "outputs": [
    {
     "name": "stdout",
     "output_type": "stream",
     "text": [
      "       Name    Team Position  Number  Age Height  Weight   College  Salary\n",
      "ind1  Geeks  Boston       PG       3   33    6-2      89       MIT   99999\n",
      "ind2  Peter  Boston       PG       4   25    6-4      79       MIT   99994\n",
      "ind4   Jack   Chele       PG      11   35    6-1      78  Stanford   78889\n"
     ]
    }
   ],
   "source": [
    "df1 = df[df['Position'].str.contains(\"PG\")]\n",
    "print(df1)"
   ]
  },
  {
   "cell_type": "code",
   "execution_count": 22,
   "id": "f3edc1ad",
   "metadata": {},
   "outputs": [
    {
     "name": "stdout",
     "output_type": "stream",
     "text": [
      "       Name    Team Position  Number  Age Height  Weight College  Salary\n",
      "ind1  Geeks  Boston       PG       3   33    6-2      89     MIT   99999\n",
      "ind2  Peter  Boston       PG       4   25    6-4      79     MIT   99994\n",
      "ind3  James  Boston       UG       7   34    5-9     113     MIT   89999\n"
     ]
    }
   ],
   "source": [
    "df1 = df[df['Team'].str.contains(\"Boston\") | df['Team'].str.contains(\"MIT\")]\n",
    "print(df1)"
   ]
  },
  {
   "cell_type": "code",
   "execution_count": 23,
   "id": "6ce5958d",
   "metadata": {},
   "outputs": [
    {
     "name": "stdout",
     "output_type": "stream",
     "text": [
      "       Name    Team Position  Number  Age Height  Weight College  Salary\n",
      "ind1  Geeks  Boston       PG       3   33    6-2      89     MIT   99999\n",
      "ind2  Peter  Boston       PG       4   25    6-4      79     MIT   99994\n"
     ]
    }
   ],
   "source": [
    "df2 = df[df[\"Team\"].str.contains(\"Boston\") & df[\"Position\"].str.contains(\"PG\")]\n",
    "print(df2)"
   ]
  },
  {
   "cell_type": "code",
   "execution_count": 24,
   "id": "6b4b0856",
   "metadata": {},
   "outputs": [
    {
     "name": "stdout",
     "output_type": "stream",
     "text": [
      "Empty DataFrame\n",
      "Columns: [Name, Team, Position, Number, Age, Height, Weight, College, Salary]\n",
      "Index: []\n"
     ]
    }
   ],
   "source": [
    "df3 = df[df[\"Position\"].str.contains(\"PG\") & df[\"College\"].str.contains(\"UC\")]\n",
    "print(df3)"
   ]
  },
  {
   "cell_type": "code",
   "execution_count": null,
   "id": "5285db92",
   "metadata": {},
   "outputs": [],
   "source": []
  },
  {
   "cell_type": "code",
   "execution_count": 27,
   "id": "fc5e9b3f",
   "metadata": {},
   "outputs": [
    {
     "data": {
      "text/html": [
       "<div>\n",
       "<style scoped>\n",
       "    .dataframe tbody tr th:only-of-type {\n",
       "        vertical-align: middle;\n",
       "    }\n",
       "\n",
       "    .dataframe tbody tr th {\n",
       "        vertical-align: top;\n",
       "    }\n",
       "\n",
       "    .dataframe thead th {\n",
       "        text-align: right;\n",
       "    }\n",
       "</style>\n",
       "<table border=\"1\" class=\"dataframe\">\n",
       "  <thead>\n",
       "    <tr style=\"text-align: right;\">\n",
       "      <th></th>\n",
       "      <th>Name</th>\n",
       "      <th>Age</th>\n",
       "      <th>Address</th>\n",
       "      <th>Qualification</th>\n",
       "    </tr>\n",
       "  </thead>\n",
       "  <tbody>\n",
       "    <tr>\n",
       "      <th>1</th>\n",
       "      <td>Princi</td>\n",
       "      <td>24</td>\n",
       "      <td>Kanpur</td>\n",
       "      <td>MA</td>\n",
       "    </tr>\n",
       "  </tbody>\n",
       "</table>\n",
       "</div>"
      ],
      "text/plain": [
       "     Name  Age Address Qualification\n",
       "1  Princi   24  Kanpur            MA"
      ]
     },
     "execution_count": 27,
     "metadata": {},
     "output_type": "execute_result"
    }
   ],
   "source": [
    "# Import pandas package\n",
    "import pandas as pd\n",
    "  \n",
    "# Define a dictionary containing employee data\n",
    "data = {'Name':['Jai', 'Princi', 'Gaurav', 'Anuj', 'Geeku'],\n",
    "        'Age':[27, 24, 22, 32, 15],\n",
    "        'Address':['Delhi', 'Kanpur', 'Allahabad', 'Kannauj', 'Noida'],\n",
    "        'Qualification':['Msc', 'MA', 'MCA', 'Phd', '10th']}\n",
    " \n",
    "# Convert the dictionary into DataFrame \n",
    "df = pd.DataFrame(data)\n",
    " \n",
    "# select all columns\n",
    "df.sample()"
   ]
  },
  {
   "cell_type": "code",
   "execution_count": 31,
   "id": "23246af5",
   "metadata": {},
   "outputs": [
    {
     "data": {
      "text/html": [
       "<div>\n",
       "<style scoped>\n",
       "    .dataframe tbody tr th:only-of-type {\n",
       "        vertical-align: middle;\n",
       "    }\n",
       "\n",
       "    .dataframe tbody tr th {\n",
       "        vertical-align: top;\n",
       "    }\n",
       "\n",
       "    .dataframe thead th {\n",
       "        text-align: right;\n",
       "    }\n",
       "</style>\n",
       "<table border=\"1\" class=\"dataframe\">\n",
       "  <thead>\n",
       "    <tr style=\"text-align: right;\">\n",
       "      <th></th>\n",
       "      <th>Name</th>\n",
       "      <th>Age</th>\n",
       "      <th>Address</th>\n",
       "      <th>Qualification</th>\n",
       "    </tr>\n",
       "  </thead>\n",
       "  <tbody>\n",
       "    <tr>\n",
       "      <th>4</th>\n",
       "      <td>Geeku</td>\n",
       "      <td>15</td>\n",
       "      <td>Noida</td>\n",
       "      <td>10th</td>\n",
       "    </tr>\n",
       "    <tr>\n",
       "      <th>3</th>\n",
       "      <td>Anuj</td>\n",
       "      <td>32</td>\n",
       "      <td>Kannauj</td>\n",
       "      <td>Phd</td>\n",
       "    </tr>\n",
       "    <tr>\n",
       "      <th>0</th>\n",
       "      <td>Jai</td>\n",
       "      <td>27</td>\n",
       "      <td>Delhi</td>\n",
       "      <td>Msc</td>\n",
       "    </tr>\n",
       "  </tbody>\n",
       "</table>\n",
       "</div>"
      ],
      "text/plain": [
       "    Name  Age  Address Qualification\n",
       "4  Geeku   15    Noida          10th\n",
       "3   Anuj   32  Kannauj           Phd\n",
       "0    Jai   27    Delhi           Msc"
      ]
     },
     "execution_count": 31,
     "metadata": {},
     "output_type": "execute_result"
    }
   ],
   "source": [
    "df.sample(3)"
   ]
  },
  {
   "cell_type": "code",
   "execution_count": 33,
   "id": "09c9509b",
   "metadata": {},
   "outputs": [
    {
     "data": {
      "text/html": [
       "<div>\n",
       "<style scoped>\n",
       "    .dataframe tbody tr th:only-of-type {\n",
       "        vertical-align: middle;\n",
       "    }\n",
       "\n",
       "    .dataframe tbody tr th {\n",
       "        vertical-align: top;\n",
       "    }\n",
       "\n",
       "    .dataframe thead th {\n",
       "        text-align: right;\n",
       "    }\n",
       "</style>\n",
       "<table border=\"1\" class=\"dataframe\">\n",
       "  <thead>\n",
       "    <tr style=\"text-align: right;\">\n",
       "      <th></th>\n",
       "      <th>Name</th>\n",
       "      <th>Age</th>\n",
       "      <th>Address</th>\n",
       "      <th>Qualification</th>\n",
       "    </tr>\n",
       "  </thead>\n",
       "  <tbody>\n",
       "    <tr>\n",
       "      <th>4</th>\n",
       "      <td>Geeku</td>\n",
       "      <td>15</td>\n",
       "      <td>Noida</td>\n",
       "      <td>10th</td>\n",
       "    </tr>\n",
       "    <tr>\n",
       "      <th>2</th>\n",
       "      <td>Gaurav</td>\n",
       "      <td>22</td>\n",
       "      <td>Allahabad</td>\n",
       "      <td>MCA</td>\n",
       "    </tr>\n",
       "  </tbody>\n",
       "</table>\n",
       "</div>"
      ],
      "text/plain": [
       "     Name  Age    Address Qualification\n",
       "4   Geeku   15      Noida          10th\n",
       "2  Gaurav   22  Allahabad           MCA"
      ]
     },
     "execution_count": 33,
     "metadata": {},
     "output_type": "execute_result"
    }
   ],
   "source": [
    "df.sample(frac = 0.5)"
   ]
  },
  {
   "cell_type": "code",
   "execution_count": 34,
   "id": "ea043dda",
   "metadata": {},
   "outputs": [],
   "source": [
    "#How to print an entire pandas dataframe in python \n",
    "# ->to.string()\n",
    "# ->pd.option_context()"
   ]
  },
  {
   "cell_type": "code",
   "execution_count": 35,
   "id": "cbd9e4c7",
   "metadata": {},
   "outputs": [],
   "source": [
    "#display(df.to_string())\n"
   ]
  },
  {
   "cell_type": "code",
   "execution_count": null,
   "id": "fc9df0d5",
   "metadata": {},
   "outputs": [],
   "source": []
  }
 ],
 "metadata": {
  "kernelspec": {
   "display_name": "Python 3 (ipykernel)",
   "language": "python",
   "name": "python3"
  },
  "language_info": {
   "codemirror_mode": {
    "name": "ipython",
    "version": 3
   },
   "file_extension": ".py",
   "mimetype": "text/x-python",
   "name": "python",
   "nbconvert_exporter": "python",
   "pygments_lexer": "ipython3",
   "version": "3.11.4"
  }
 },
 "nbformat": 4,
 "nbformat_minor": 5
}
